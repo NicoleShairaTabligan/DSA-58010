{
  "nbformat": 4,
  "nbformat_minor": 0,
  "metadata": {
    "colab": {
      "name": "Practice Problem.ipynb",
      "provenance": [],
      "authorship_tag": "ABX9TyMtnaWfowEgek77ZKgY4LGj",
      "include_colab_link": true
    },
    "kernelspec": {
      "name": "python3",
      "display_name": "Python 3"
    },
    "language_info": {
      "name": "python"
    }
  },
  "cells": [
    {
      "cell_type": "markdown",
      "metadata": {
        "id": "view-in-github",
        "colab_type": "text"
      },
      "source": [
        "<a href=\"https://colab.research.google.com/github/NicoleShairaTabligan/DSA-58010/blob/main/Practice_Problem.ipynb\" target=\"_parent\"><img src=\"https://colab.research.google.com/assets/colab-badge.svg\" alt=\"Open In Colab\"/></a>"
      ]
    },
    {
      "cell_type": "code",
      "execution_count": 33,
      "metadata": {
        "colab": {
          "base_uri": "https://localhost:8080/"
        },
        "id": "-OLJ1nMRWfCK",
        "outputId": "8d1893b8-0e83-47ff-bfa9-8592bc820c7b"
      },
      "outputs": [
        {
          "output_type": "stream",
          "name": "stdout",
          "text": [
            "Give the radius of the circle 7\n",
            "If the radius is given by user, the area of the circle is  153.86\n"
          ]
        }
      ],
      "source": [
        "class Circle():\n",
        "#Area of circle if the radius is given by user\n",
        "  def __init__(self, radius,pi):\n",
        "    self.radius = int (input(\"Give the radius of the circle \"))\n",
        "    self.pi = pi\n",
        "  def Area(self):\n",
        "    return (self.pi*(self.radius**2)) \n",
        "  def display(self):\n",
        "    print(\"If the radius is given by user, the area of the circle is \"  , self.Area())\n",
        "circle = Circle(input,3.14)\n",
        "circle.display()\n"
      ]
    },
    {
      "cell_type": "code",
      "source": [
        "class Circle():\n",
        "#Area of circle if the diameter is given user\n",
        "  def __init__(self, diameter,pi):\n",
        "    self.diameter = int (input(\"Give the diameter of the circle \"))\n",
        "    self.pi = pi\n",
        "  def Area(self):\n",
        "    return (self.pi*(self.diameter**2)) \n",
        "  def Area1(self):\n",
        "    return (self.Area()/4)\n",
        "  def display(self):\n",
        "    print(\"If the diameter is given by user, the area of the circle is \", self.Area1())\n",
        "\n",
        "circle = Circle(input,3.14)\n",
        "circle.display()"
      ],
      "metadata": {
        "colab": {
          "base_uri": "https://localhost:8080/"
        },
        "id": "qVlAxKuwgZqR",
        "outputId": "182cc957-9782-4cc5-bc0f-6dbac2a2a520"
      },
      "execution_count": 31,
      "outputs": [
        {
          "output_type": "stream",
          "name": "stdout",
          "text": [
            "Give the diameter of the circle 14\n",
            "If the diameter is given by user, the area of the circle is  153.86\n"
          ]
        }
      ]
    }
  ]
}