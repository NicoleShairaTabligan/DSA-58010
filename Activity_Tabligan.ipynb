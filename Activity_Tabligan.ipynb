{
  "nbformat": 4,
  "nbformat_minor": 0,
  "metadata": {
    "colab": {
      "provenance": [],
      "authorship_tag": "ABX9TyM4atiPgkz8nGTsnLdi0I19",
      "include_colab_link": true
    },
    "kernelspec": {
      "name": "python3",
      "display_name": "Python 3"
    },
    "language_info": {
      "name": "python"
    }
  },
  "cells": [
    {
      "cell_type": "markdown",
      "metadata": {
        "id": "view-in-github",
        "colab_type": "text"
      },
      "source": [
        "<a href=\"https://colab.research.google.com/github/NicoleShairaTabligan/DSA-58010/blob/main/Activity_Tabligan.ipynb\" target=\"_parent\"><img src=\"https://colab.research.google.com/assets/colab-badge.svg\" alt=\"Open In Colab\"/></a>"
      ]
    },
    {
      "cell_type": "code",
      "execution_count": 41,
      "metadata": {
        "colab": {
          "base_uri": "https://localhost:8080/"
        },
        "id": "lkHFJTjGMLIb",
        "outputId": "1f627293-2d47-4b3f-dbcb-219a3b760bb8"
      },
      "outputs": [
        {
          "output_type": "stream",
          "name": "stdout",
          "text": [
            "1\n",
            "2\n",
            "3\n",
            "4\n",
            "5\n",
            "6\n",
            "7\n",
            "8\n",
            "9\n",
            "10\n",
            "The Sum of the integers is 55\n"
          ]
        }
      ],
      "source": [
        "#1\n",
        "integers = [1,2,3,4,5,6,7,8,9,10]\n",
        "for x in integers:\n",
        "  print(x)\n",
        "\n",
        "x = sum(integers)\n",
        "print(\"The Sum of the integers is\",x)\n"
      ]
    },
    {
      "cell_type": "code",
      "source": [
        "#2\n",
        "integers = [1,2,3,4,5,6,7,8,9,10]\n",
        "integers.append(11)\n",
        "print(integers)"
      ],
      "metadata": {
        "colab": {
          "base_uri": "https://localhost:8080/"
        },
        "id": "DcZLDdAkQtbc",
        "outputId": "136ac777-133e-4c20-99ca-5d8c6807a212"
      },
      "execution_count": 24,
      "outputs": [
        {
          "output_type": "stream",
          "name": "stdout",
          "text": [
            "[1, 2, 3, 4, 5, 6, 7, 8, 9, 10, 11]\n"
          ]
        }
      ]
    },
    {
      "cell_type": "code",
      "source": [
        "#3\n",
        "integers = [1,2,3,4,5,6,7,8,9,10]\n",
        "integers[1] = (12)\n",
        "print(integers)"
      ],
      "metadata": {
        "colab": {
          "base_uri": "https://localhost:8080/"
        },
        "id": "rr0A4bawRaJk",
        "outputId": "77177a1b-8476-4ef7-c8d4-6beba7d50685"
      },
      "execution_count": 26,
      "outputs": [
        {
          "output_type": "stream",
          "name": "stdout",
          "text": [
            "[1, 12, 3, 4, 5, 6, 7, 8, 9, 10]\n"
          ]
        }
      ]
    },
    {
      "cell_type": "code",
      "source": [
        "#4\n",
        "integers = [5, 4, 3, 2, 1]\n",
        "integers.reverse()\n",
        "print(integers)"
      ],
      "metadata": {
        "colab": {
          "base_uri": "https://localhost:8080/"
        },
        "id": "KBu6CvIYTUr0",
        "outputId": "5f38ea92-8158-424b-9a85-57976fc11a7f"
      },
      "execution_count": 23,
      "outputs": [
        {
          "output_type": "stream",
          "name": "stdout",
          "text": [
            "[1, 2, 3, 4, 5]\n"
          ]
        }
      ]
    },
    {
      "cell_type": "code",
      "source": [
        "#5\n",
        "integers = [5, 4, 3, 2, 1]\n",
        "x = len(integers)\n",
        "print(x)"
      ],
      "metadata": {
        "colab": {
          "base_uri": "https://localhost:8080/"
        },
        "id": "ly-DqV1cSuTW",
        "outputId": "e57f7136-1668-4313-e422-a1a338e569d2"
      },
      "execution_count": 18,
      "outputs": [
        {
          "output_type": "stream",
          "name": "stdout",
          "text": [
            "5\n"
          ]
        }
      ]
    }
  ]
}