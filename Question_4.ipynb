{
  "nbformat": 4,
  "nbformat_minor": 0,
  "metadata": {
    "colab": {
      "name": "Question 4.ipynb",
      "provenance": [],
      "authorship_tag": "ABX9TyM1xKko5YycnDsvBa3pMcjL",
      "include_colab_link": true
    },
    "kernelspec": {
      "name": "python3",
      "display_name": "Python 3"
    },
    "language_info": {
      "name": "python"
    }
  },
  "cells": [
    {
      "cell_type": "markdown",
      "metadata": {
        "id": "view-in-github",
        "colab_type": "text"
      },
      "source": [
        "<a href=\"https://colab.research.google.com/github/NicoleShairaTabligan/DSA-58010/blob/main/Question_4.ipynb\" target=\"_parent\"><img src=\"https://colab.research.google.com/assets/colab-badge.svg\" alt=\"Open In Colab\"/></a>"
      ]
    },
    {
      "cell_type": "code",
      "source": [
        "class Shape:\n",
        "  def Area(self):\n",
        "    pass\n",
        "  def Perimeter(self):\n",
        "    pass\n",
        "class Rectangle:\n",
        "  def __init__(self,side1,side2):\n",
        "    self.side1 =side1 #declare side1\n",
        "    self.side2 =side2 #declare side2\n",
        "  def Area(self):\n",
        "    print(self.side1*self.side2) #the side1 multiply to side2\n",
        "  def Perimeter(self):\n",
        "    print(2*(self.side1+self.side2)) #side1 add to side2 and the answer will multiply to 2\n",
        "\n",
        "class Square(Shape):\n",
        "  def __init__(self,side):\n",
        "    self.side =side #declare side\n",
        "  def Area(self):\n",
        "    print(self.side**2) #side will be squared \n",
        "  def Perimeter(self):\n",
        "    print(self.side*4) #side multiply to 4\n",
        "square = Square(4) #declare that square is equal to Square and the variable will be 4\n",
        "square.Area() #declare that square and area are connected, the variable  use in area is 4\n",
        "\n",
        "# for the first print  print(self.side1*self.side2) will be print(4*4) = 16\n",
        "# for the thrid print print(self.side**2)         will be print(4**2) = 16\n",
        "\n",
        "rect=Rectangle(7,3)\n",
        "rect.Area()\n",
        "\n",
        "square.Perimeter()\n",
        "rect.Perimeter()"
      ],
      "metadata": {
        "colab": {
          "base_uri": "https://localhost:8080/"
        },
        "id": "eKTAdkMaMTGX",
        "outputId": "87d5a606-ff36-4c49-e4ba-42646e7c64a5"
      },
      "execution_count": 8,
      "outputs": [
        {
          "output_type": "stream",
          "name": "stdout",
          "text": [
            "16\n",
            "21\n",
            "16\n",
            "20\n"
          ]
        }
      ]
    }
  ]
}