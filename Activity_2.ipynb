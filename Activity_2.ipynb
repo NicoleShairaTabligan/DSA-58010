{
  "nbformat": 4,
  "nbformat_minor": 0,
  "metadata": {
    "colab": {
      "provenance": [],
      "authorship_tag": "ABX9TyOHfCUtsmysZxanoOKnS4NO",
      "include_colab_link": true
    },
    "kernelspec": {
      "name": "python3",
      "display_name": "Python 3"
    },
    "language_info": {
      "name": "python"
    }
  },
  "cells": [
    {
      "cell_type": "markdown",
      "metadata": {
        "id": "view-in-github",
        "colab_type": "text"
      },
      "source": [
        "<a href=\"https://colab.research.google.com/github/NicoleShairaTabligan/DSA-58010/blob/main/Activity_2.ipynb\" target=\"_parent\"><img src=\"https://colab.research.google.com/assets/colab-badge.svg\" alt=\"Open In Colab\"/></a>"
      ]
    },
    {
      "cell_type": "code",
      "execution_count": 2,
      "metadata": {
        "id": "OkMMa9Dd-w5p",
        "colab": {
          "base_uri": "https://localhost:8080/"
        },
        "outputId": "fc69ef1d-4030-4d71-a91b-fea04707d36b"
      },
      "outputs": [
        {
          "output_type": "stream",
          "name": "stdout",
          "text": [
            "The prime numbers that are less than 20:\n",
            "2\n",
            "3\n",
            "5\n",
            "7\n",
            "11\n",
            "13\n",
            "17\n",
            "19\n",
            "The head of the node is: 2\n",
            "The last node data is: 19\n"
          ]
        }
      ],
      "source": [
        "#Create a node object\n",
        "\n",
        "class Node:\n",
        "  def __init__(self,data):\n",
        "    self.data = data\n",
        "    self.next = None\n",
        "\n",
        "#function that creates a head of the node\n",
        "\n",
        "class LinkedList:\n",
        "  def __init__(self): \n",
        "    self.head = None    #to create head node with null data\n",
        "\n",
        "  def printList(self):\n",
        "    temp = self.head\n",
        "    while(temp):\n",
        "      print(temp.data)\n",
        "      temp = temp.next\n",
        " \n",
        "#code execution\n",
        "llist = LinkedList()\n",
        "llist.head = Node(2)\n",
        "second = Node(3)\n",
        "third = Node(5)\n",
        "fourth = Node(7)\n",
        "fifth = Node(11)\n",
        "sixth = Node(13)\n",
        "seventh = Node(17)\n",
        "eight = Node(19)\n",
        "\n",
        "llist.head.next = second\n",
        "second.next = third\n",
        "third.next = fourth\n",
        "fourth.next = fifth\n",
        "fifth.next = sixth\n",
        "sixth.next = seventh\n",
        "seventh.next = eight\n",
        "\n",
        "\n",
        "print(\"The prime numbers that are less than 20:\")\n",
        "llist.printList()\n",
        "print(\"The head of the node is:\",llist.head.data)\n",
        "print(\"The last node data is:\",seventh.next.data)\n",
        "\n",
        "\n"
      ]
    }
  ]
}